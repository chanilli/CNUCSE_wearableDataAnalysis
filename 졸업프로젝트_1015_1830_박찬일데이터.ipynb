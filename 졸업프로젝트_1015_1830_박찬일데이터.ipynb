{
 "cells": [
  {
   "cell_type": "code",
   "execution_count": 1,
   "metadata": {},
   "outputs": [],
   "source": [
    "import numpy as np \n",
    "import pandas as pd\n",
    "import sys\n",
    "import matplotlib.pyplot as plt\n",
    "from datetime import datetime\n",
    "import seaborn as sns"
   ]
  },
  {
   "cell_type": "code",
   "execution_count": 2,
   "metadata": {},
   "outputs": [],
   "source": [
    "ACC=pd.read_csv('1571132161_A013E1\\ACC.csv')\n",
    "BVP=pd.read_csv('1571132161_A013E1\\BVP.csv') ##Blood Volume Pulse\n",
    "EDA=pd.read_csv('1571132161_A013E1\\EDA.csv')\n",
    "HR=pd.read_csv('1571132161_A013E1\\HR.csv')\n",
    "IBI=pd.read_csv('1571132161_A013E1\\IBI.csv') #inter-beat-interval"
   ]
  },
  {
   "cell_type": "code",
   "execution_count": 3,
   "metadata": {},
   "outputs": [],
   "source": [
    "a=BVP.loc[::64]\n",
    "b=ACC.loc[::32]\n",
    "c=EDA.loc[::4]\n",
    "a=a.reset_index()\n",
    "b=b.reset_index()\n",
    "c=c.reset_index()\n",
    "DataSet=pd.DataFrame(columns=['BVP','ACC','EDA','HR','EM1','EM2'])\n",
    "DataSet['BVP'] = a.iloc[:,1]\n",
    "DataSet['ACC'] = b.iloc[:,1]\n",
    "DataSet['EDA'] = c.iloc[:,1]\n",
    "DataSet['HR']=HR\n",
    "DataSet=DataSet.drop(DataSet.index[len(HR):len(DataSet)])"
   ]
  },
  {
   "cell_type": "code",
   "execution_count": 4,
   "metadata": {},
   "outputs": [
    {
     "name": "stderr",
     "output_type": "stream",
     "text": [
      "C:\\Users\\PCI\\Anaconda3\\lib\\site-packages\\pandas\\core\\indexing.py:190: SettingWithCopyWarning: \n",
      "A value is trying to be set on a copy of a slice from a DataFrame\n",
      "\n",
      "See the caveats in the documentation: http://pandas.pydata.org/pandas-docs/stable/indexing.html#indexing-view-versus-copy\n",
      "  self._setitem_with_indexer(indexer, value)\n"
     ]
    }
   ],
   "source": [
    "DataSet['EM1'].iloc[0:int(len(DataSet)/3)]= 0\n",
    "DataSet['EM2'].iloc[0:int(len(DataSet)/3)]= -1\n",
    "DataSet['EM1'].iloc[int(len(DataSet)/3):2*int(len(DataSet)/3)]= 2\n",
    "DataSet['EM2'].iloc[int(len(DataSet)/3):2*int(len(DataSet)/3)]= -2\n",
    "DataSet['EM1'].iloc[2*int(len(DataSet)/3):int(len(DataSet))]= 4\n",
    "DataSet['EM2'].iloc[2*int(len(DataSet)/3):int(len(DataSet))]= -2"
   ]
  },
  {
   "cell_type": "code",
   "execution_count": 5,
   "metadata": {},
   "outputs": [],
   "source": [
    "DataSet.to_csv('Dataset.csv')"
   ]
  },
  {
   "cell_type": "code",
   "execution_count": 6,
   "metadata": {},
   "outputs": [
    {
     "data": {
      "text/html": [
       "<div>\n",
       "<style scoped>\n",
       "    .dataframe tbody tr th:only-of-type {\n",
       "        vertical-align: middle;\n",
       "    }\n",
       "\n",
       "    .dataframe tbody tr th {\n",
       "        vertical-align: top;\n",
       "    }\n",
       "\n",
       "    .dataframe thead th {\n",
       "        text-align: right;\n",
       "    }\n",
       "</style>\n",
       "<table border=\"1\" class=\"dataframe\">\n",
       "  <thead>\n",
       "    <tr style=\"text-align: right;\">\n",
       "      <th></th>\n",
       "      <th>BVP</th>\n",
       "      <th>ACC</th>\n",
       "      <th>EDA</th>\n",
       "      <th>HR</th>\n",
       "      <th>EM1</th>\n",
       "      <th>EM2</th>\n",
       "    </tr>\n",
       "  </thead>\n",
       "  <tbody>\n",
       "    <tr>\n",
       "      <th>0</th>\n",
       "      <td>64.00</td>\n",
       "      <td>32.0</td>\n",
       "      <td>4.000000</td>\n",
       "      <td>1.00</td>\n",
       "      <td>0</td>\n",
       "      <td>-1</td>\n",
       "    </tr>\n",
       "    <tr>\n",
       "      <th>1</th>\n",
       "      <td>85.71</td>\n",
       "      <td>38.0</td>\n",
       "      <td>0.039712</td>\n",
       "      <td>86.00</td>\n",
       "      <td>0</td>\n",
       "      <td>-1</td>\n",
       "    </tr>\n",
       "    <tr>\n",
       "      <th>2</th>\n",
       "      <td>148.81</td>\n",
       "      <td>44.0</td>\n",
       "      <td>0.008967</td>\n",
       "      <td>97.00</td>\n",
       "      <td>0</td>\n",
       "      <td>-1</td>\n",
       "    </tr>\n",
       "    <tr>\n",
       "      <th>3</th>\n",
       "      <td>11.23</td>\n",
       "      <td>23.0</td>\n",
       "      <td>0.008967</td>\n",
       "      <td>93.00</td>\n",
       "      <td>0</td>\n",
       "      <td>-1</td>\n",
       "    </tr>\n",
       "    <tr>\n",
       "      <th>4</th>\n",
       "      <td>47.26</td>\n",
       "      <td>17.0</td>\n",
       "      <td>0.017934</td>\n",
       "      <td>84.25</td>\n",
       "      <td>0</td>\n",
       "      <td>-1</td>\n",
       "    </tr>\n",
       "  </tbody>\n",
       "</table>\n",
       "</div>"
      ],
      "text/plain": [
       "      BVP   ACC       EDA     HR  EM1  EM2\n",
       "0   64.00  32.0  4.000000   1.00    0   -1\n",
       "1   85.71  38.0  0.039712  86.00    0   -1\n",
       "2  148.81  44.0  0.008967  97.00    0   -1\n",
       "3   11.23  23.0  0.008967  93.00    0   -1\n",
       "4   47.26  17.0  0.017934  84.25    0   -1"
      ]
     },
     "execution_count": 6,
     "metadata": {},
     "output_type": "execute_result"
    }
   ],
   "source": [
    "DataSet.head()"
   ]
  },
  {
   "cell_type": "code",
   "execution_count": 7,
   "metadata": {},
   "outputs": [
    {
     "name": "stderr",
     "output_type": "stream",
     "text": [
      "Using TensorFlow backend.\n"
     ]
    }
   ],
   "source": [
    "from keras.models import Sequential # 케라스의 Sequential()을 임포트\n",
    "from keras.layers import Dense # 케라스의 Dense()를 임포트\n",
    "from keras import optimizers # 케라스의 옵티마이저를 임포트"
   ]
  },
  {
   "cell_type": "code",
   "execution_count": 8,
   "metadata": {},
   "outputs": [],
   "source": [
    "df=pd.DataFrame(columns=['BVP','ACC','EDA','HR'])\n",
    "df['BVP']=DataSet['BVP']\n",
    "df['ACC']=DataSet['ACC']\n",
    "df['EDA']=DataSet['EDA']\n",
    "df['HR']=DataSet['HR']\n",
    "\n",
    "df_em1=pd.DataFrame(columns=['EM1'])\n",
    "df_em2=pd.DataFrame(columns=['EM2'])\n",
    "df_em1['EM1']=DataSet['EM1']\n",
    "df_em2['EM2']=DataSet['EM2']"
   ]
  },
  {
   "cell_type": "code",
   "execution_count": 9,
   "metadata": {},
   "outputs": [],
   "source": [
    "X=df"
   ]
  },
  {
   "cell_type": "code",
   "execution_count": 10,
   "metadata": {},
   "outputs": [],
   "source": [
    "y=df_em1 #즐거움과 화남의 정도를 측정하는 감정 EM1"
   ]
  },
  {
   "cell_type": "code",
   "execution_count": 11,
   "metadata": {},
   "outputs": [
    {
     "name": "stderr",
     "output_type": "stream",
     "text": [
      "C:\\Users\\PCI\\Anaconda3\\lib\\site-packages\\sklearn\\preprocessing\\label.py:235: DataConversionWarning: A column-vector y was passed when a 1d array was expected. Please change the shape of y to (n_samples, ), for example using ravel().\n",
      "  y = column_or_1d(y, warn=True)\n"
     ]
    },
    {
     "data": {
      "text/plain": [
       "array([[1, 0, 0],\n",
       "       [1, 0, 0],\n",
       "       [1, 0, 0],\n",
       "       ...,\n",
       "       [0, 0, 1],\n",
       "       [0, 0, 1],\n",
       "       [0, 0, 1]], dtype=uint8)"
      ]
     },
     "execution_count": 11,
     "metadata": {},
     "output_type": "execute_result"
    }
   ],
   "source": [
    "from sklearn.preprocessing import LabelEncoder\n",
    "encoder =  LabelEncoder()\n",
    "y1 = encoder.fit_transform(y)\n",
    "Y = pd.get_dummies(y1).values\n",
    "Y"
   ]
  },
  {
   "cell_type": "code",
   "execution_count": 12,
   "metadata": {},
   "outputs": [
    {
     "data": {
      "text/plain": [
       "((712, 4), (179, 4), (712, 3), (179, 3))"
      ]
     },
     "execution_count": 12,
     "metadata": {},
     "output_type": "execute_result"
    }
   ],
   "source": [
    "from sklearn.model_selection import train_test_split\n",
    "X_train, X_test, y_train, y_test = train_test_split(X,Y,test_size=0.2,random_state=1) \n",
    "X_train.shape, X_test.shape, y_train.shape, y_test.shape"
   ]
  },
  {
   "cell_type": "code",
   "execution_count": 13,
   "metadata": {},
   "outputs": [
    {
     "name": "stderr",
     "output_type": "stream",
     "text": [
      "WARNING: Logging before flag parsing goes to stderr.\n",
      "W1107 16:58:01.289057   988 deprecation_wrapper.py:119] From C:\\Users\\PCI\\Anaconda3\\lib\\site-packages\\keras\\backend\\tensorflow_backend.py:74: The name tf.get_default_graph is deprecated. Please use tf.compat.v1.get_default_graph instead.\n",
      "\n",
      "W1107 16:58:01.379001   988 deprecation_wrapper.py:119] From C:\\Users\\PCI\\Anaconda3\\lib\\site-packages\\keras\\backend\\tensorflow_backend.py:517: The name tf.placeholder is deprecated. Please use tf.compat.v1.placeholder instead.\n",
      "\n",
      "W1107 16:58:01.382999   988 deprecation_wrapper.py:119] From C:\\Users\\PCI\\Anaconda3\\lib\\site-packages\\keras\\backend\\tensorflow_backend.py:4138: The name tf.random_uniform is deprecated. Please use tf.random.uniform instead.\n",
      "\n",
      "W1107 16:58:01.490932   988 deprecation_wrapper.py:119] From C:\\Users\\PCI\\Anaconda3\\lib\\site-packages\\keras\\optimizers.py:790: The name tf.train.Optimizer is deprecated. Please use tf.compat.v1.train.Optimizer instead.\n",
      "\n",
      "W1107 16:58:01.542900   988 deprecation_wrapper.py:119] From C:\\Users\\PCI\\Anaconda3\\lib\\site-packages\\keras\\backend\\tensorflow_backend.py:3295: The name tf.log is deprecated. Please use tf.math.log instead.\n",
      "\n"
     ]
    },
    {
     "name": "stdout",
     "output_type": "stream",
     "text": [
      "_________________________________________________________________\n",
      "Layer (type)                 Output Shape              Param #   \n",
      "=================================================================\n",
      "dense_1 (Dense)              (None, 64)                320       \n",
      "_________________________________________________________________\n",
      "dense_2 (Dense)              (None, 64)                4160      \n",
      "_________________________________________________________________\n",
      "dense_3 (Dense)              (None, 3)                 195       \n",
      "=================================================================\n",
      "Total params: 4,675\n",
      "Trainable params: 4,675\n",
      "Non-trainable params: 0\n",
      "_________________________________________________________________\n"
     ]
    }
   ],
   "source": [
    "from keras.models import Sequential\n",
    "from keras.layers import Dense\n",
    "from keras.optimizers import Adam\n",
    "\n",
    "model = Sequential()\n",
    "sgd=optimizers.SGD(lr=0.01)\n",
    "model.add(Dense(64,input_shape=(4,),activation='relu'))\n",
    "model.add(Dense(64,activation='relu'))\n",
    "model.add(Dense(3,activation='softmax'))\n",
    "\n",
    "model.compile(loss='categorical_crossentropy',optimizer='Adam',metrics=['accuracy'])\n",
    "\n",
    "model.summary()"
   ]
  },
  {
   "cell_type": "code",
   "execution_count": 14,
   "metadata": {},
   "outputs": [],
   "source": [
    "import matplotlib\n",
    "from matplotlib import font_manager, rc\n",
    "import platform\n",
    "\n",
    "if platform.system() == 'Windows':\n",
    "# 윈도우인 경우\n",
    "    font_name = font_manager.FontProperties(fname=\"c:/Windows/Fonts/malgun.ttf\").get_name()\n",
    "    rc('font', family=font_name)\n",
    "else:    \n",
    "# Mac 인 경우\n",
    "    rc('font', family='AppleGothic')\n",
    "    \n",
    "matplotlib.rcParams['axes.unicode_minus'] = False "
   ]
  },
  {
   "cell_type": "code",
   "execution_count": 15,
   "metadata": {},
   "outputs": [
    {
     "name": "stderr",
     "output_type": "stream",
     "text": [
      "W1107 16:58:01.814732   988 deprecation.py:323] From C:\\Users\\PCI\\Anaconda3\\lib\\site-packages\\tensorflow\\python\\ops\\math_grad.py:1250: add_dispatch_support.<locals>.wrapper (from tensorflow.python.ops.array_ops) is deprecated and will be removed in a future version.\n",
      "Instructions for updating:\n",
      "Use tf.where in 2.0, which has the same broadcast rule as np.where\n",
      "W1107 16:58:01.947651   988 deprecation_wrapper.py:119] From C:\\Users\\PCI\\Anaconda3\\lib\\site-packages\\keras\\backend\\tensorflow_backend.py:986: The name tf.assign_add is deprecated. Please use tf.compat.v1.assign_add instead.\n",
      "\n"
     ]
    },
    {
     "name": "stdout",
     "output_type": "stream",
     "text": [
      "Train on 712 samples, validate on 179 samples\n",
      "Epoch 1/100\n",
      "712/712 [==============================] - 1s 1ms/step - loss: 1.8467 - acc: 0.3624 - val_loss: 1.3921 - val_acc: 0.4302\n",
      "Epoch 2/100\n",
      "712/712 [==============================] - 0s 87us/step - loss: 1.1879 - acc: 0.4635 - val_loss: 1.1784 - val_acc: 0.4972\n",
      "Epoch 3/100\n",
      "712/712 [==============================] - 0s 67us/step - loss: 1.0159 - acc: 0.5211 - val_loss: 1.0454 - val_acc: 0.4581\n",
      "Epoch 4/100\n",
      "712/712 [==============================] - 0s 101us/step - loss: 1.0046 - acc: 0.5253 - val_loss: 1.2396 - val_acc: 0.3520\n",
      "Epoch 5/100\n",
      "712/712 [==============================] - 0s 81us/step - loss: 1.0125 - acc: 0.5365 - val_loss: 0.9745 - val_acc: 0.5475\n",
      "Epoch 6/100\n",
      "712/712 [==============================] - 0s 80us/step - loss: 0.9546 - acc: 0.5660 - val_loss: 1.0859 - val_acc: 0.4413\n",
      "Epoch 7/100\n",
      "712/712 [==============================] - 0s 66us/step - loss: 0.9324 - acc: 0.5506 - val_loss: 1.0764 - val_acc: 0.5196\n",
      "Epoch 8/100\n",
      "712/712 [==============================] - 0s 150us/step - loss: 0.9344 - acc: 0.5744 - val_loss: 1.0042 - val_acc: 0.5363\n",
      "Epoch 9/100\n",
      "712/712 [==============================] - 0s 218us/step - loss: 0.9716 - acc: 0.5421 - val_loss: 1.0088 - val_acc: 0.5251\n",
      "Epoch 10/100\n",
      "712/712 [==============================] - 0s 168us/step - loss: 0.9017 - acc: 0.5716 - val_loss: 0.9600 - val_acc: 0.5698\n",
      "Epoch 11/100\n",
      "712/712 [==============================] - 0s 118us/step - loss: 0.8758 - acc: 0.5941 - val_loss: 1.0058 - val_acc: 0.5307\n",
      "Epoch 12/100\n",
      "712/712 [==============================] - 0s 131us/step - loss: 0.9399 - acc: 0.5646 - val_loss: 1.0109 - val_acc: 0.5028\n",
      "Epoch 13/100\n",
      "712/712 [==============================] - 0s 342us/step - loss: 0.8908 - acc: 0.5927 - val_loss: 1.0031 - val_acc: 0.4749\n",
      "Epoch 14/100\n",
      "712/712 [==============================] - 0s 180us/step - loss: 0.8835 - acc: 0.6025 - val_loss: 1.1126 - val_acc: 0.4637\n",
      "Epoch 15/100\n",
      "712/712 [==============================] - 0s 138us/step - loss: 0.9156 - acc: 0.5772 - val_loss: 1.0272 - val_acc: 0.5642\n",
      "Epoch 16/100\n",
      "712/712 [==============================] - 0s 145us/step - loss: 0.8907 - acc: 0.5969 - val_loss: 1.2089 - val_acc: 0.4637\n",
      "Epoch 17/100\n",
      "712/712 [==============================] - 0s 211us/step - loss: 0.9805 - acc: 0.5506 - val_loss: 0.9386 - val_acc: 0.5642\n",
      "Epoch 18/100\n",
      "712/712 [==============================] - 0s 163us/step - loss: 0.8942 - acc: 0.5772 - val_loss: 0.9186 - val_acc: 0.5810\n",
      "Epoch 19/100\n",
      "712/712 [==============================] - 0s 199us/step - loss: 0.8383 - acc: 0.6067 - val_loss: 0.9455 - val_acc: 0.5475\n",
      "Epoch 20/100\n",
      "712/712 [==============================] - 0s 292us/step - loss: 0.8420 - acc: 0.6236 - val_loss: 0.9872 - val_acc: 0.5810\n",
      "Epoch 21/100\n",
      "712/712 [==============================] - 0s 219us/step - loss: 0.8543 - acc: 0.6025 - val_loss: 1.0433 - val_acc: 0.4749\n",
      "Epoch 22/100\n",
      "712/712 [==============================] - 0s 198us/step - loss: 0.8570 - acc: 0.5969 - val_loss: 0.9011 - val_acc: 0.6089\n",
      "Epoch 23/100\n",
      "712/712 [==============================] - 0s 194us/step - loss: 0.8409 - acc: 0.5829 - val_loss: 0.9418 - val_acc: 0.5419\n",
      "Epoch 24/100\n",
      "712/712 [==============================] - 0s 152us/step - loss: 0.8588 - acc: 0.5927 - val_loss: 0.9577 - val_acc: 0.5363\n",
      "Epoch 25/100\n",
      "712/712 [==============================] - 0s 175us/step - loss: 0.8700 - acc: 0.5899 - val_loss: 0.9321 - val_acc: 0.5698\n",
      "Epoch 26/100\n",
      "712/712 [==============================] - 0s 146us/step - loss: 0.8454 - acc: 0.5829 - val_loss: 0.8924 - val_acc: 0.6034\n",
      "Epoch 27/100\n",
      "712/712 [==============================] - 0s 135us/step - loss: 0.8326 - acc: 0.5969 - val_loss: 0.9888 - val_acc: 0.5363\n",
      "Epoch 28/100\n",
      "712/712 [==============================] - 0s 160us/step - loss: 0.8427 - acc: 0.6039 - val_loss: 0.9722 - val_acc: 0.5028\n",
      "Epoch 29/100\n",
      "712/712 [==============================] - ETA: 1s - loss: 0.6206 - acc: 0.687 - 0s 147us/step - loss: 0.8638 - acc: 0.6138 - val_loss: 0.9686 - val_acc: 0.4525\n",
      "Epoch 30/100\n",
      "712/712 [==============================] - 0s 140us/step - loss: 0.8650 - acc: 0.5787 - val_loss: 0.9552 - val_acc: 0.5419\n",
      "Epoch 31/100\n",
      "712/712 [==============================] - 0s 128us/step - loss: 0.8117 - acc: 0.6067 - val_loss: 0.9357 - val_acc: 0.5307\n",
      "Epoch 32/100\n",
      "712/712 [==============================] - 0s 112us/step - loss: 0.8432 - acc: 0.5927 - val_loss: 0.9203 - val_acc: 0.5531\n",
      "Epoch 33/100\n",
      "712/712 [==============================] - 0s 122us/step - loss: 0.8019 - acc: 0.6264 - val_loss: 0.9308 - val_acc: 0.6089\n",
      "Epoch 34/100\n",
      "712/712 [==============================] - 0s 149us/step - loss: 0.8264 - acc: 0.6166 - val_loss: 0.9061 - val_acc: 0.5866\n",
      "Epoch 35/100\n",
      "712/712 [==============================] - 0s 115us/step - loss: 0.8279 - acc: 0.5955 - val_loss: 0.9255 - val_acc: 0.5698\n",
      "Epoch 36/100\n",
      "712/712 [==============================] - 0s 139us/step - loss: 0.8442 - acc: 0.6025 - val_loss: 0.9149 - val_acc: 0.6034\n",
      "Epoch 37/100\n",
      "712/712 [==============================] - 0s 140us/step - loss: 0.8381 - acc: 0.6025 - val_loss: 0.9556 - val_acc: 0.5419\n",
      "Epoch 38/100\n",
      "712/712 [==============================] - 0s 119us/step - loss: 0.8126 - acc: 0.6096 - val_loss: 1.0400 - val_acc: 0.4525\n",
      "Epoch 39/100\n",
      "712/712 [==============================] - 0s 115us/step - loss: 0.8162 - acc: 0.6208 - val_loss: 0.9770 - val_acc: 0.5587\n",
      "Epoch 40/100\n",
      "712/712 [==============================] - 0s 145us/step - loss: 0.8602 - acc: 0.6025 - val_loss: 1.1328 - val_acc: 0.4469\n",
      "Epoch 41/100\n",
      "712/712 [==============================] - 0s 117us/step - loss: 0.8788 - acc: 0.5829 - val_loss: 1.0286 - val_acc: 0.5363\n",
      "Epoch 42/100\n",
      "712/712 [==============================] - 0s 125us/step - loss: 0.8561 - acc: 0.5885 - val_loss: 0.9593 - val_acc: 0.5419\n",
      "Epoch 43/100\n",
      "712/712 [==============================] - 0s 111us/step - loss: 0.8721 - acc: 0.5772 - val_loss: 1.0158 - val_acc: 0.5363\n",
      "Epoch 44/100\n",
      "712/712 [==============================] - 0s 143us/step - loss: 0.8580 - acc: 0.5955 - val_loss: 0.9566 - val_acc: 0.5978\n",
      "Epoch 45/100\n",
      "712/712 [==============================] - 0s 153us/step - loss: 0.8615 - acc: 0.6152 - val_loss: 0.9298 - val_acc: 0.5419\n",
      "Epoch 46/100\n",
      "712/712 [==============================] - 0s 116us/step - loss: 0.8011 - acc: 0.6138 - val_loss: 0.9101 - val_acc: 0.6034\n",
      "Epoch 47/100\n",
      "712/712 [==============================] - 0s 131us/step - loss: 0.7966 - acc: 0.6194 - val_loss: 1.0089 - val_acc: 0.4581\n",
      "Epoch 48/100\n",
      "712/712 [==============================] - 0s 101us/step - loss: 0.8389 - acc: 0.6180 - val_loss: 0.9417 - val_acc: 0.5978\n",
      "Epoch 49/100\n",
      "712/712 [==============================] - 0s 121us/step - loss: 0.8536 - acc: 0.5857 - val_loss: 1.0062 - val_acc: 0.5140\n",
      "Epoch 50/100\n",
      "712/712 [==============================] - 0s 104us/step - loss: 0.8824 - acc: 0.5758 - val_loss: 0.9784 - val_acc: 0.5531\n",
      "Epoch 51/100\n",
      "712/712 [==============================] - 0s 157us/step - loss: 0.8265 - acc: 0.6025 - val_loss: 0.9388 - val_acc: 0.5475\n",
      "Epoch 52/100\n",
      "712/712 [==============================] - 0s 100us/step - loss: 0.7952 - acc: 0.6096 - val_loss: 0.9308 - val_acc: 0.5419\n",
      "Epoch 53/100\n",
      "712/712 [==============================] - 0s 146us/step - loss: 0.7855 - acc: 0.6138 - val_loss: 0.8904 - val_acc: 0.6034\n",
      "Epoch 54/100\n",
      "712/712 [==============================] - 0s 104us/step - loss: 0.7969 - acc: 0.6194 - val_loss: 0.9349 - val_acc: 0.5363\n",
      "Epoch 55/100\n",
      "712/712 [==============================] - 0s 119us/step - loss: 0.8065 - acc: 0.6138 - val_loss: 0.9602 - val_acc: 0.5642\n",
      "Epoch 56/100\n",
      "712/712 [==============================] - 0s 102us/step - loss: 0.8032 - acc: 0.6194 - val_loss: 0.9630 - val_acc: 0.5028\n",
      "Epoch 57/100\n",
      "712/712 [==============================] - 0s 145us/step - loss: 0.7892 - acc: 0.6264 - val_loss: 0.9279 - val_acc: 0.5754\n",
      "Epoch 58/100\n",
      "712/712 [==============================] - 0s 72us/step - loss: 0.7937 - acc: 0.6152 - val_loss: 0.8653 - val_acc: 0.6480\n",
      "Epoch 59/100\n",
      "712/712 [==============================] - 0s 136us/step - loss: 0.8105 - acc: 0.6194 - val_loss: 1.0141 - val_acc: 0.4916\n",
      "Epoch 60/100\n",
      "712/712 [==============================] - 0s 95us/step - loss: 0.8160 - acc: 0.5913 - val_loss: 0.9134 - val_acc: 0.5642\n"
     ]
    },
    {
     "name": "stdout",
     "output_type": "stream",
     "text": [
      "Epoch 61/100\n",
      "712/712 [==============================] - 0s 108us/step - loss: 0.7989 - acc: 0.6362 - val_loss: 0.9868 - val_acc: 0.5084\n",
      "Epoch 62/100\n",
      "712/712 [==============================] - 0s 87us/step - loss: 0.7911 - acc: 0.6292 - val_loss: 0.9466 - val_acc: 0.5978\n",
      "Epoch 63/100\n",
      "712/712 [==============================] - 0s 80us/step - loss: 0.7847 - acc: 0.6362 - val_loss: 0.9623 - val_acc: 0.5419\n",
      "Epoch 64/100\n",
      "712/712 [==============================] - 0s 129us/step - loss: 0.7725 - acc: 0.6166 - val_loss: 0.8928 - val_acc: 0.5475\n",
      "Epoch 65/100\n",
      "712/712 [==============================] - 0s 91us/step - loss: 0.7638 - acc: 0.6306 - val_loss: 0.9147 - val_acc: 0.5698\n",
      "Epoch 66/100\n",
      "712/712 [==============================] - 0s 116us/step - loss: 0.7793 - acc: 0.6348 - val_loss: 0.9049 - val_acc: 0.5754\n",
      "Epoch 67/100\n",
      "712/712 [==============================] - 0s 102us/step - loss: 0.7766 - acc: 0.6306 - val_loss: 0.9580 - val_acc: 0.5698\n",
      "Epoch 68/100\n",
      "712/712 [==============================] - 0s 101us/step - loss: 0.7607 - acc: 0.6334 - val_loss: 0.9217 - val_acc: 0.5587\n",
      "Epoch 69/100\n",
      "712/712 [==============================] - 0s 109us/step - loss: 0.8296 - acc: 0.5829 - val_loss: 0.9151 - val_acc: 0.6089\n",
      "Epoch 70/100\n",
      "712/712 [==============================] - 0s 105us/step - loss: 0.7816 - acc: 0.6222 - val_loss: 0.9665 - val_acc: 0.5196\n",
      "Epoch 71/100\n",
      "712/712 [==============================] - 0s 69us/step - loss: 0.8060 - acc: 0.6081 - val_loss: 0.9126 - val_acc: 0.5419\n",
      "Epoch 72/100\n",
      "712/712 [==============================] - 0s 98us/step - loss: 0.7567 - acc: 0.6292 - val_loss: 0.9261 - val_acc: 0.5922\n",
      "Epoch 73/100\n",
      "712/712 [==============================] - 0s 74us/step - loss: 0.8319 - acc: 0.6180 - val_loss: 1.0154 - val_acc: 0.5028\n",
      "Epoch 74/100\n",
      "712/712 [==============================] - 0s 73us/step - loss: 0.7752 - acc: 0.6138 - val_loss: 0.9203 - val_acc: 0.5754\n",
      "Epoch 75/100\n",
      "712/712 [==============================] - 0s 131us/step - loss: 0.7604 - acc: 0.6278 - val_loss: 0.9135 - val_acc: 0.5642\n",
      "Epoch 76/100\n",
      "712/712 [==============================] - 0s 84us/step - loss: 0.7458 - acc: 0.6573 - val_loss: 0.9217 - val_acc: 0.6201\n",
      "Epoch 77/100\n",
      "712/712 [==============================] - 0s 119us/step - loss: 0.7793 - acc: 0.6475 - val_loss: 0.9489 - val_acc: 0.5978\n",
      "Epoch 78/100\n",
      "712/712 [==============================] - 0s 79us/step - loss: 0.7513 - acc: 0.6362 - val_loss: 0.8866 - val_acc: 0.5587\n",
      "Epoch 79/100\n",
      "712/712 [==============================] - 0s 83us/step - loss: 0.7505 - acc: 0.6362 - val_loss: 0.9045 - val_acc: 0.5866\n",
      "Epoch 80/100\n",
      "712/712 [==============================] - 0s 88us/step - loss: 0.7801 - acc: 0.6110 - val_loss: 0.8900 - val_acc: 0.5587\n",
      "Epoch 81/100\n",
      "712/712 [==============================] - 0s 83us/step - loss: 0.7849 - acc: 0.6278 - val_loss: 0.9291 - val_acc: 0.5866\n",
      "Epoch 82/100\n",
      "712/712 [==============================] - 0s 81us/step - loss: 0.7394 - acc: 0.6671 - val_loss: 0.8917 - val_acc: 0.6257\n",
      "Epoch 83/100\n",
      "712/712 [==============================] - 0s 105us/step - loss: 0.7330 - acc: 0.6531 - val_loss: 0.8791 - val_acc: 0.6145\n",
      "Epoch 84/100\n",
      "712/712 [==============================] - 0s 66us/step - loss: 0.7660 - acc: 0.6222 - val_loss: 0.8813 - val_acc: 0.6034\n",
      "Epoch 85/100\n",
      "712/712 [==============================] - 0s 74us/step - loss: 0.7631 - acc: 0.6376 - val_loss: 0.9104 - val_acc: 0.5531\n",
      "Epoch 86/100\n",
      "712/712 [==============================] - 0s 94us/step - loss: 0.7793 - acc: 0.6362 - val_loss: 0.9453 - val_acc: 0.5698\n",
      "Epoch 87/100\n",
      "712/712 [==============================] - 0s 105us/step - loss: 0.7566 - acc: 0.6306 - val_loss: 0.8707 - val_acc: 0.5922\n",
      "Epoch 88/100\n",
      "712/712 [==============================] - 0s 112us/step - loss: 0.7856 - acc: 0.6039 - val_loss: 0.8914 - val_acc: 0.6034\n",
      "Epoch 89/100\n",
      "712/712 [==============================] - 0s 83us/step - loss: 0.7711 - acc: 0.6433 - val_loss: 0.9114 - val_acc: 0.6201\n",
      "Epoch 90/100\n",
      "712/712 [==============================] - 0s 91us/step - loss: 0.7891 - acc: 0.6306 - val_loss: 1.1406 - val_acc: 0.4693\n",
      "Epoch 91/100\n",
      "712/712 [==============================] - 0s 108us/step - loss: 0.7453 - acc: 0.6264 - val_loss: 0.8949 - val_acc: 0.5642\n",
      "Epoch 92/100\n",
      "712/712 [==============================] - 0s 88us/step - loss: 0.7268 - acc: 0.6545 - val_loss: 0.8668 - val_acc: 0.5587\n",
      "Epoch 93/100\n",
      "712/712 [==============================] - 0s 124us/step - loss: 0.7296 - acc: 0.6376 - val_loss: 0.9398 - val_acc: 0.6201\n",
      "Epoch 94/100\n",
      "712/712 [==============================] - 0s 95us/step - loss: 0.7298 - acc: 0.6517 - val_loss: 0.9397 - val_acc: 0.5754\n",
      "Epoch 95/100\n",
      "712/712 [==============================] - 0s 93us/step - loss: 0.7492 - acc: 0.6292 - val_loss: 0.8406 - val_acc: 0.6369\n",
      "Epoch 96/100\n",
      "712/712 [==============================] - 0s 122us/step - loss: 0.7658 - acc: 0.6376 - val_loss: 1.0430 - val_acc: 0.5028\n",
      "Epoch 97/100\n",
      "712/712 [==============================] - 0s 124us/step - loss: 0.7432 - acc: 0.6433 - val_loss: 0.9035 - val_acc: 0.5866\n",
      "Epoch 98/100\n",
      "712/712 [==============================] - 0s 95us/step - loss: 0.8006 - acc: 0.6110 - val_loss: 0.9342 - val_acc: 0.5754\n",
      "Epoch 99/100\n",
      "712/712 [==============================] - 0s 88us/step - loss: 0.7604 - acc: 0.6419 - val_loss: 0.8584 - val_acc: 0.5810\n",
      "Epoch 100/100\n",
      "712/712 [==============================] - 0s 80us/step - loss: 0.7108 - acc: 0.6685 - val_loss: 0.9306 - val_acc: 0.5698\n"
     ]
    }
   ],
   "source": [
    "hist = model.fit(X_train, y_train, validation_data=(X_test, y_test), epochs=100)"
   ]
  },
  {
   "cell_type": "code",
   "execution_count": 16,
   "metadata": {},
   "outputs": [
    {
     "name": "stdout",
     "output_type": "stream",
     "text": [
      "179/179 [==============================] - 0s 56us/step\n",
      "Accuracy = 0.57\n"
     ]
    }
   ],
   "source": [
    "loss, accuracy = model.evaluate(X_test, y_test)\n",
    "print(\"Accuracy = {:.2f}\".format(accuracy))"
   ]
  },
  {
   "cell_type": "code",
   "execution_count": 17,
   "metadata": {},
   "outputs": [
    {
     "data": {
      "image/png": "[encoded data removed]",
      "text/plain": [
       "<Figure size 432x288 with 2 Axes>"
      ]
     },
     "metadata": {
      "needs_background": "light"
     },
     "output_type": "display_data"
    }
   ],
   "source": [
    "import matplotlib.pyplot as plt\n",
    "%matplotlib inline\n",
    "fig,ax1=plt.subplots()\n",
    "ax2=ax1.twinx()\n",
    "ax1.plot(hist.history['loss'],color='cadetblue')\n",
    "ax1.plot(hist.history['val_loss'])\n",
    "ax2.plot(hist.history['acc'],color='salmon')\n",
    "ax2.plot(hist.history['val_acc'],color='orange')\n",
    "ax1.legend(['loss','val_loss'],loc='center right')\n",
    "ax2.legend(['acc','val_acc'],loc='center left')\n",
    "plt.title(\"신체데이터에 따른 감정 예측 정확도\", fontsize = 15)\n",
    "plt.grid()\n",
    "plt.show()"
   ]
  },
  {
   "cell_type": "code",
   "execution_count": 18,
   "metadata": {},
   "outputs": [
    {
     "name": "stdout",
     "output_type": "stream",
     "text": [
      "              precision    recall  f1-score   support\n",
      "\n",
      "           0       0.64      0.51      0.57        59\n",
      "           1       0.41      0.71      0.52        49\n",
      "           2       0.79      0.52      0.63        71\n",
      "\n",
      "   micro avg       0.57      0.57      0.57       179\n",
      "   macro avg       0.61      0.58      0.57       179\n",
      "weighted avg       0.64      0.57      0.58       179\n",
      "\n",
      "[[30 25  4]\n",
      " [ 8 35  6]\n",
      " [ 9 25 37]]\n"
     ]
    }
   ],
   "source": [
    "import numpy as np\n",
    "from sklearn.metrics import classification_report,confusion_matrix\n",
    "\n",
    "y_pred = model.predict(X_test)\n",
    "y_test_class = np.argmax(y_test,axis=1)\n",
    "y_pred_class = np.argmax(y_pred,axis=1)\n",
    "\n",
    "print(classification_report(y_test_class,y_pred_class))\n",
    "print(confusion_matrix(y_test_class,y_pred_class))"
   ]
  },
  {
   "cell_type": "code",
   "execution_count": 19,
   "metadata": {
    "scrolled": true
   },
   "outputs": [
    {
     "name": "stdout",
     "output_type": "stream",
     "text": [
      "예측 감정 수준 EM1(즐거움 및 화남의 정도): [0]\n"
     ]
    }
   ],
   "source": [
    "test_set = np.array([[192,17.0,0.151161,70.33]])\n",
    "print(\"예측 감정 수준 EM1(즐거움 및 화남의 정도): {}\".format(\n",
    "    DataSet['EM1'].unique()[model.predict_classes(test_set)]))"
   ]
  },
  {
   "cell_type": "code",
   "execution_count": 20,
   "metadata": {},
   "outputs": [],
   "source": [
    "y=df_em2 #흥분되거나 평온함의 정도 EM2"
   ]
  },
  {
   "cell_type": "code",
   "execution_count": 21,
   "metadata": {},
   "outputs": [
    {
     "name": "stderr",
     "output_type": "stream",
     "text": [
      "C:\\Users\\PCI\\Anaconda3\\lib\\site-packages\\sklearn\\preprocessing\\label.py:235: DataConversionWarning: A column-vector y was passed when a 1d array was expected. Please change the shape of y to (n_samples, ), for example using ravel().\n",
      "  y = column_or_1d(y, warn=True)\n"
     ]
    },
    {
     "data": {
      "text/plain": [
       "array([[0, 1],\n",
       "       [0, 1],\n",
       "       [0, 1],\n",
       "       ...,\n",
       "       [1, 0],\n",
       "       [1, 0],\n",
       "       [1, 0]], dtype=uint8)"
      ]
     },
     "execution_count": 21,
     "metadata": {},
     "output_type": "execute_result"
    }
   ],
   "source": [
    "from sklearn.preprocessing import LabelEncoder\n",
    "encoder =  LabelEncoder()\n",
    "y1 = encoder.fit_transform(y)\n",
    "Y = pd.get_dummies(y1).values\n",
    "Y"
   ]
  },
  {
   "cell_type": "code",
   "execution_count": 22,
   "metadata": {},
   "outputs": [
    {
     "data": {
      "text/plain": [
       "((712, 4), (179, 4), (712, 2), (179, 2))"
      ]
     },
     "execution_count": 22,
     "metadata": {},
     "output_type": "execute_result"
    }
   ],
   "source": [
    "from sklearn.model_selection import train_test_split\n",
    "X_train, X_test, y_train, y_test = train_test_split(X,Y,test_size=0.2,random_state=1) \n",
    "X_train.shape, X_test.shape, y_train.shape, y_test.shape"
   ]
  },
  {
   "cell_type": "code",
   "execution_count": 23,
   "metadata": {},
   "outputs": [
    {
     "name": "stdout",
     "output_type": "stream",
     "text": [
      "_________________________________________________________________\n",
      "Layer (type)                 Output Shape              Param #   \n",
      "=================================================================\n",
      "dense_4 (Dense)              (None, 64)                320       \n",
      "_________________________________________________________________\n",
      "dense_5 (Dense)              (None, 64)                4160      \n",
      "_________________________________________________________________\n",
      "dense_6 (Dense)              (None, 2)                 130       \n",
      "=================================================================\n",
      "Total params: 4,610\n",
      "Trainable params: 4,610\n",
      "Non-trainable params: 0\n",
      "_________________________________________________________________\n"
     ]
    }
   ],
   "source": [
    "from keras.models import Sequential\n",
    "from keras.layers import Dense\n",
    "from keras.optimizers import Adam\n",
    "\n",
    "model = Sequential()\n",
    "sgd=optimizers.SGD(lr=0.01)\n",
    "model.add(Dense(64,input_shape=(4,),activation='relu'))\n",
    "model.add(Dense(64,activation='relu'))\n",
    "model.add(Dense(2,activation='softmax'))\n",
    "\n",
    "model.compile(loss='categorical_crossentropy',optimizer='Adam',metrics=['accuracy'])\n",
    "\n",
    "model.summary()"
   ]
  },
  {
   "cell_type": "code",
   "execution_count": 24,
   "metadata": {},
   "outputs": [],
   "source": [
    "import matplotlib\n",
    "from matplotlib import font_manager, rc\n",
    "import platform\n",
    "\n",
    "if platform.system() == 'Windows':\n",
    "# 윈도우인 경우\n",
    "    font_name = font_manager.FontProperties(fname=\"c:/Windows/Fonts/malgun.ttf\").get_name()\n",
    "    rc('font', family=font_name)\n",
    "else:    \n",
    "# Mac 인 경우\n",
    "    rc('font', family='AppleGothic')\n",
    "    \n",
    "matplotlib.rcParams['axes.unicode_minus'] = False "
   ]
  },
  {
   "cell_type": "code",
   "execution_count": 25,
   "metadata": {},
   "outputs": [
    {
     "name": "stdout",
     "output_type": "stream",
     "text": [
      "Train on 712 samples, validate on 179 samples\n",
      "Epoch 1/100\n",
      "712/712 [==============================] - 1s 1ms/step - loss: 3.3688 - acc: 0.6025 - val_loss: 1.6330 - val_acc: 0.6872\n",
      "Epoch 2/100\n",
      "712/712 [==============================] - 0s 129us/step - loss: 0.9364 - acc: 0.6124 - val_loss: 0.8673 - val_acc: 0.6145\n",
      "Epoch 3/100\n",
      "712/712 [==============================] - 0s 101us/step - loss: 0.6741 - acc: 0.7065 - val_loss: 0.7221 - val_acc: 0.7151\n",
      "Epoch 4/100\n",
      "712/712 [==============================] - 0s 111us/step - loss: 0.6696 - acc: 0.6938 - val_loss: 0.6848 - val_acc: 0.6983\n",
      "Epoch 5/100\n",
      "712/712 [==============================] - 0s 79us/step - loss: 0.6091 - acc: 0.7135 - val_loss: 0.6217 - val_acc: 0.7542\n",
      "Epoch 6/100\n",
      "712/712 [==============================] - 0s 83us/step - loss: 0.6290 - acc: 0.6910 - val_loss: 0.9570 - val_acc: 0.6816\n",
      "Epoch 7/100\n",
      "712/712 [==============================] - 0s 112us/step - loss: 0.6942 - acc: 0.7022 - val_loss: 0.6372 - val_acc: 0.6592\n",
      "Epoch 8/100\n",
      "712/712 [==============================] - 0s 133us/step - loss: 0.5616 - acc: 0.7233 - val_loss: 0.5843 - val_acc: 0.7430\n",
      "Epoch 9/100\n",
      "712/712 [==============================] - 0s 102us/step - loss: 0.5523 - acc: 0.7331 - val_loss: 0.6000 - val_acc: 0.6313\n",
      "Epoch 10/100\n",
      "712/712 [==============================] - 0s 177us/step - loss: 0.5803 - acc: 0.7275 - val_loss: 0.5849 - val_acc: 0.7430\n",
      "Epoch 11/100\n",
      "712/712 [==============================] - 0s 87us/step - loss: 0.5431 - acc: 0.7360 - val_loss: 0.6896 - val_acc: 0.6145\n",
      "Epoch 12/100\n",
      "712/712 [==============================] - 0s 132us/step - loss: 0.5715 - acc: 0.7261 - val_loss: 0.5695 - val_acc: 0.7374\n",
      "Epoch 13/100\n",
      "712/712 [==============================] - 0s 90us/step - loss: 0.5980 - acc: 0.7374 - val_loss: 0.7126 - val_acc: 0.6983\n",
      "Epoch 14/100\n",
      "712/712 [==============================] - 0s 132us/step - loss: 0.6069 - acc: 0.7163 - val_loss: 0.6191 - val_acc: 0.7318\n",
      "Epoch 15/100\n",
      "712/712 [==============================] - 0s 117us/step - loss: 0.5721 - acc: 0.7360 - val_loss: 0.5967 - val_acc: 0.7374\n",
      "Epoch 16/100\n",
      "712/712 [==============================] - 0s 142us/step - loss: 0.5257 - acc: 0.7528 - val_loss: 0.5432 - val_acc: 0.7430\n",
      "Epoch 17/100\n",
      "712/712 [==============================] - 0s 105us/step - loss: 0.5164 - acc: 0.7640 - val_loss: 0.6517 - val_acc: 0.6369\n",
      "Epoch 18/100\n",
      "712/712 [==============================] - 0s 114us/step - loss: 0.5233 - acc: 0.7514 - val_loss: 0.5650 - val_acc: 0.7598\n",
      "Epoch 19/100\n",
      "712/712 [==============================] - 0s 93us/step - loss: 0.5016 - acc: 0.7584 - val_loss: 0.5957 - val_acc: 0.7095\n",
      "Epoch 20/100\n",
      "712/712 [==============================] - 0s 97us/step - loss: 0.5140 - acc: 0.7640 - val_loss: 0.5890 - val_acc: 0.6872\n",
      "Epoch 21/100\n",
      "712/712 [==============================] - 0s 125us/step - loss: 0.5439 - acc: 0.7598 - val_loss: 0.5451 - val_acc: 0.7318\n",
      "Epoch 22/100\n",
      "712/712 [==============================] - 0s 91us/step - loss: 0.5383 - acc: 0.7458 - val_loss: 0.5369 - val_acc: 0.7486\n",
      "Epoch 23/100\n",
      "712/712 [==============================] - 0s 128us/step - loss: 0.5447 - acc: 0.7472 - val_loss: 0.5289 - val_acc: 0.7430\n",
      "Epoch 24/100\n",
      "712/712 [==============================] - 0s 74us/step - loss: 0.5805 - acc: 0.7205 - val_loss: 0.6407 - val_acc: 0.7430\n",
      "Epoch 25/100\n",
      "712/712 [==============================] - 0s 97us/step - loss: 0.6083 - acc: 0.7107 - val_loss: 0.7081 - val_acc: 0.7151\n",
      "Epoch 26/100\n",
      "712/712 [==============================] - 0s 101us/step - loss: 0.5744 - acc: 0.7247 - val_loss: 0.5648 - val_acc: 0.7430\n",
      "Epoch 27/100\n",
      "712/712 [==============================] - 0s 111us/step - loss: 0.5601 - acc: 0.7346 - val_loss: 0.7129 - val_acc: 0.6369\n",
      "Epoch 28/100\n",
      "712/712 [==============================] - 0s 128us/step - loss: 0.5304 - acc: 0.7430 - val_loss: 0.6285 - val_acc: 0.6480\n",
      "Epoch 29/100\n",
      "712/712 [==============================] - 0s 156us/step - loss: 0.5887 - acc: 0.7191 - val_loss: 0.6791 - val_acc: 0.6536\n",
      "Epoch 30/100\n",
      "712/712 [==============================] - 0s 66us/step - loss: 0.5233 - acc: 0.7514 - val_loss: 0.5955 - val_acc: 0.6816\n",
      "Epoch 31/100\n",
      "712/712 [==============================] - 0s 109us/step - loss: 0.5048 - acc: 0.7669 - val_loss: 0.5986 - val_acc: 0.7430\n",
      "Epoch 32/100\n",
      "712/712 [==============================] - 0s 93us/step - loss: 0.5254 - acc: 0.7669 - val_loss: 0.5328 - val_acc: 0.7654\n",
      "Epoch 33/100\n",
      "712/712 [==============================] - 0s 100us/step - loss: 0.5366 - acc: 0.7598 - val_loss: 0.5911 - val_acc: 0.7598\n",
      "Epoch 34/100\n",
      "712/712 [==============================] - 0s 118us/step - loss: 0.4977 - acc: 0.7683 - val_loss: 0.5424 - val_acc: 0.7374\n",
      "Epoch 35/100\n",
      "712/712 [==============================] - 0s 105us/step - loss: 0.4913 - acc: 0.7598 - val_loss: 0.5589 - val_acc: 0.7374\n",
      "Epoch 36/100\n",
      "712/712 [==============================] - 0s 111us/step - loss: 0.4935 - acc: 0.7683 - val_loss: 0.5817 - val_acc: 0.7095\n",
      "Epoch 37/100\n",
      "712/712 [==============================] - 0s 94us/step - loss: 0.5044 - acc: 0.7654 - val_loss: 0.5725 - val_acc: 0.7430\n",
      "Epoch 38/100\n",
      "712/712 [==============================] - 0s 125us/step - loss: 0.4834 - acc: 0.7612 - val_loss: 0.5447 - val_acc: 0.7542\n",
      "Epoch 39/100\n",
      "712/712 [==============================] - 0s 98us/step - loss: 0.5041 - acc: 0.7683 - val_loss: 0.6949 - val_acc: 0.6592\n",
      "Epoch 40/100\n",
      "712/712 [==============================] - 0s 108us/step - loss: 0.5210 - acc: 0.7528 - val_loss: 0.5573 - val_acc: 0.7654\n",
      "Epoch 41/100\n",
      "712/712 [==============================] - 0s 131us/step - loss: 0.5391 - acc: 0.7430 - val_loss: 0.6388 - val_acc: 0.7318\n",
      "Epoch 42/100\n",
      "712/712 [==============================] - 0s 80us/step - loss: 0.5552 - acc: 0.7205 - val_loss: 0.6578 - val_acc: 0.6760\n",
      "Epoch 43/100\n",
      "712/712 [==============================] - 0s 153us/step - loss: 0.5163 - acc: 0.7640 - val_loss: 0.6326 - val_acc: 0.6927\n",
      "Epoch 44/100\n",
      "712/712 [==============================] - 0s 111us/step - loss: 0.5134 - acc: 0.7626 - val_loss: 0.6504 - val_acc: 0.6983\n",
      "Epoch 45/100\n",
      "712/712 [==============================] - 0s 126us/step - loss: 0.5000 - acc: 0.7598 - val_loss: 0.5339 - val_acc: 0.7430\n",
      "Epoch 46/100\n",
      "712/712 [==============================] - 0s 80us/step - loss: 0.4776 - acc: 0.7767 - val_loss: 0.5603 - val_acc: 0.7263\n",
      "Epoch 47/100\n",
      "712/712 [==============================] - 0s 84us/step - loss: 0.4743 - acc: 0.7697 - val_loss: 0.5397 - val_acc: 0.7374\n",
      "Epoch 48/100\n",
      "712/712 [==============================] - 0s 115us/step - loss: 0.5000 - acc: 0.7570 - val_loss: 0.5447 - val_acc: 0.7486\n",
      "Epoch 49/100\n",
      "712/712 [==============================] - 0s 84us/step - loss: 0.4692 - acc: 0.7865 - val_loss: 0.5737 - val_acc: 0.7374\n",
      "Epoch 50/100\n",
      "712/712 [==============================] - 0s 122us/step - loss: 0.4875 - acc: 0.7711 - val_loss: 0.5417 - val_acc: 0.7486\n",
      "Epoch 51/100\n",
      "712/712 [==============================] - 0s 83us/step - loss: 0.4807 - acc: 0.7697 - val_loss: 0.5172 - val_acc: 0.7542\n",
      "Epoch 52/100\n",
      "712/712 [==============================] - 0s 104us/step - loss: 0.4872 - acc: 0.7697 - val_loss: 0.5894 - val_acc: 0.7486\n",
      "Epoch 53/100\n",
      "712/712 [==============================] - 0s 145us/step - loss: 0.4676 - acc: 0.7795 - val_loss: 0.5194 - val_acc: 0.7598\n",
      "Epoch 54/100\n",
      "712/712 [==============================] - 0s 84us/step - loss: 0.4825 - acc: 0.7753 - val_loss: 0.6247 - val_acc: 0.6760\n",
      "Epoch 55/100\n",
      "712/712 [==============================] - 0s 114us/step - loss: 0.4810 - acc: 0.7654 - val_loss: 0.5413 - val_acc: 0.7654\n",
      "Epoch 56/100\n",
      "712/712 [==============================] - 0s 100us/step - loss: 0.4985 - acc: 0.7542 - val_loss: 0.6013 - val_acc: 0.7542\n",
      "Epoch 57/100\n",
      "712/712 [==============================] - 0s 84us/step - loss: 0.5148 - acc: 0.7584 - val_loss: 0.5229 - val_acc: 0.7598\n",
      "Epoch 58/100\n",
      "712/712 [==============================] - 0s 80us/step - loss: 0.4937 - acc: 0.7528 - val_loss: 0.6047 - val_acc: 0.6760\n",
      "Epoch 59/100\n",
      "712/712 [==============================] - 0s 72us/step - loss: 0.4868 - acc: 0.7640 - val_loss: 0.5319 - val_acc: 0.7709\n",
      "Epoch 60/100\n",
      "712/712 [==============================] - 0s 74us/step - loss: 0.4659 - acc: 0.7725 - val_loss: 0.5698 - val_acc: 0.7039\n",
      "Epoch 61/100\n"
     ]
    },
    {
     "name": "stdout",
     "output_type": "stream",
     "text": [
      "712/712 [==============================] - 0s 80us/step - loss: 0.5312 - acc: 0.7500 - val_loss: 0.5494 - val_acc: 0.6816\n",
      "Epoch 62/100\n",
      "712/712 [==============================] - 0s 80us/step - loss: 0.5284 - acc: 0.7612 - val_loss: 0.5697 - val_acc: 0.7654\n",
      "Epoch 63/100\n",
      "712/712 [==============================] - 0s 76us/step - loss: 0.4708 - acc: 0.7851 - val_loss: 0.5754 - val_acc: 0.7430\n",
      "Epoch 64/100\n",
      "712/712 [==============================] - 0s 76us/step - loss: 0.5623 - acc: 0.7191 - val_loss: 0.5677 - val_acc: 0.7486\n",
      "Epoch 65/100\n",
      "712/712 [==============================] - 0s 70us/step - loss: 0.4876 - acc: 0.7795 - val_loss: 0.5579 - val_acc: 0.7430\n",
      "Epoch 66/100\n",
      "712/712 [==============================] - 0s 72us/step - loss: 0.4921 - acc: 0.7640 - val_loss: 0.5198 - val_acc: 0.7430\n",
      "Epoch 67/100\n",
      "712/712 [==============================] - 0s 67us/step - loss: 0.5481 - acc: 0.7416 - val_loss: 0.7975 - val_acc: 0.7430\n",
      "Epoch 68/100\n",
      "712/712 [==============================] - 0s 88us/step - loss: 0.5749 - acc: 0.7289 - val_loss: 0.5546 - val_acc: 0.7374\n",
      "Epoch 69/100\n",
      "712/712 [==============================] - 0s 126us/step - loss: 0.4773 - acc: 0.7753 - val_loss: 0.6199 - val_acc: 0.7598\n",
      "Epoch 70/100\n",
      "712/712 [==============================] - 0s 87us/step - loss: 0.4906 - acc: 0.7725 - val_loss: 0.5131 - val_acc: 0.7709\n",
      "Epoch 71/100\n",
      "712/712 [==============================] - 0s 98us/step - loss: 0.4566 - acc: 0.7711 - val_loss: 0.5673 - val_acc: 0.7207\n",
      "Epoch 72/100\n",
      "712/712 [==============================] - 0s 77us/step - loss: 0.4671 - acc: 0.7907 - val_loss: 0.5190 - val_acc: 0.7430\n",
      "Epoch 73/100\n",
      "712/712 [==============================] - 0s 133us/step - loss: 0.4893 - acc: 0.7683 - val_loss: 0.6629 - val_acc: 0.6927\n",
      "Epoch 74/100\n",
      "712/712 [==============================] - 0s 105us/step - loss: 0.4514 - acc: 0.7851 - val_loss: 0.5654 - val_acc: 0.7374\n",
      "Epoch 75/100\n",
      "712/712 [==============================] - ETA: 0s - loss: 0.5079 - acc: 0.764 - 0s 132us/step - loss: 0.5143 - acc: 0.7640 - val_loss: 0.5319 - val_acc: 0.7542\n",
      "Epoch 76/100\n",
      "712/712 [==============================] - 0s 83us/step - loss: 0.4832 - acc: 0.7683 - val_loss: 0.6434 - val_acc: 0.7151\n",
      "Epoch 77/100\n",
      "712/712 [==============================] - 0s 88us/step - loss: 0.4625 - acc: 0.7781 - val_loss: 0.6198 - val_acc: 0.7207\n",
      "Epoch 78/100\n",
      "712/712 [==============================] - 0s 79us/step - loss: 0.5154 - acc: 0.7570 - val_loss: 0.7038 - val_acc: 0.7095\n",
      "Epoch 79/100\n",
      "712/712 [==============================] - 0s 83us/step - loss: 0.4563 - acc: 0.7837 - val_loss: 0.5485 - val_acc: 0.7765\n",
      "Epoch 80/100\n",
      "712/712 [==============================] - 0s 94us/step - loss: 0.4429 - acc: 0.7978 - val_loss: 0.5452 - val_acc: 0.7542\n",
      "Epoch 81/100\n",
      "712/712 [==============================] - 0s 107us/step - loss: 0.4507 - acc: 0.8034 - val_loss: 0.5843 - val_acc: 0.7430\n",
      "Epoch 82/100\n",
      "712/712 [==============================] - 0s 111us/step - loss: 0.4573 - acc: 0.7809 - val_loss: 0.6967 - val_acc: 0.6704\n",
      "Epoch 83/100\n",
      "712/712 [==============================] - 0s 118us/step - loss: 0.4562 - acc: 0.7823 - val_loss: 0.5416 - val_acc: 0.7765\n",
      "Epoch 84/100\n",
      "712/712 [==============================] - 0s 94us/step - loss: 0.4933 - acc: 0.7753 - val_loss: 0.6281 - val_acc: 0.7151\n",
      "Epoch 85/100\n",
      "712/712 [==============================] - 0s 80us/step - loss: 0.4676 - acc: 0.7598 - val_loss: 0.5797 - val_acc: 0.7542\n",
      "Epoch 86/100\n",
      "712/712 [==============================] - 0s 109us/step - loss: 0.4490 - acc: 0.7739 - val_loss: 0.5749 - val_acc: 0.7598\n",
      "Epoch 87/100\n",
      "712/712 [==============================] - 0s 115us/step - loss: 0.4631 - acc: 0.7739 - val_loss: 0.5788 - val_acc: 0.7486\n",
      "Epoch 88/100\n",
      "712/712 [==============================] - 0s 128us/step - loss: 0.4360 - acc: 0.7935 - val_loss: 0.6000 - val_acc: 0.7765\n",
      "Epoch 89/100\n",
      "712/712 [==============================] - 0s 122us/step - loss: 0.4561 - acc: 0.7879 - val_loss: 0.5756 - val_acc: 0.7486\n",
      "Epoch 90/100\n",
      "712/712 [==============================] - 0s 131us/step - loss: 0.4469 - acc: 0.7823 - val_loss: 0.5683 - val_acc: 0.7318\n",
      "Epoch 91/100\n",
      "712/712 [==============================] - ETA: 0s - loss: 0.4274 - acc: 0.799 - 0s 104us/step - loss: 0.4373 - acc: 0.7949 - val_loss: 0.7443 - val_acc: 0.5978\n",
      "Epoch 92/100\n",
      "712/712 [==============================] - 0s 97us/step - loss: 0.4649 - acc: 0.7739 - val_loss: 0.6556 - val_acc: 0.7542\n",
      "Epoch 93/100\n",
      "712/712 [==============================] - 0s 143us/step - loss: 0.4686 - acc: 0.7711 - val_loss: 0.6506 - val_acc: 0.6425\n",
      "Epoch 94/100\n",
      "712/712 [==============================] - 0s 133us/step - loss: 0.4421 - acc: 0.7865 - val_loss: 0.6015 - val_acc: 0.7263\n",
      "Epoch 95/100\n",
      "712/712 [==============================] - 0s 94us/step - loss: 0.4497 - acc: 0.7795 - val_loss: 0.6246 - val_acc: 0.6983\n",
      "Epoch 96/100\n",
      "712/712 [==============================] - 0s 101us/step - loss: 0.4888 - acc: 0.7697 - val_loss: 0.5342 - val_acc: 0.7709\n",
      "Epoch 97/100\n",
      "712/712 [==============================] - 0s 83us/step - loss: 0.4317 - acc: 0.8048 - val_loss: 0.6315 - val_acc: 0.7318\n",
      "Epoch 98/100\n",
      "712/712 [==============================] - 0s 83us/step - loss: 0.4453 - acc: 0.7837 - val_loss: 0.5708 - val_acc: 0.7374\n",
      "Epoch 99/100\n",
      "712/712 [==============================] - 0s 97us/step - loss: 0.4694 - acc: 0.7753 - val_loss: 0.5965 - val_acc: 0.7542\n",
      "Epoch 100/100\n",
      "712/712 [==============================] - 0s 112us/step - loss: 0.4670 - acc: 0.7837 - val_loss: 0.5780 - val_acc: 0.7542\n"
     ]
    }
   ],
   "source": [
    "hist = model.fit(X_train, y_train, validation_data=(X_test, y_test), epochs=100)"
   ]
  },
  {
   "cell_type": "code",
   "execution_count": 26,
   "metadata": {},
   "outputs": [
    {
     "name": "stdout",
     "output_type": "stream",
     "text": [
      "179/179 [==============================] - 0s 151us/step\n",
      "Accuracy = 0.75\n"
     ]
    }
   ],
   "source": [
    "loss, accuracy = model.evaluate(X_test, y_test)\n",
    "print(\"Accuracy = {:.2f}\".format(accuracy))"
   ]
  },
  {
   "cell_type": "code",
   "execution_count": 27,
   "metadata": {},
   "outputs": [
    {
     "data": {
      "image/png": "[encoded data removed]",
      "text/plain": [
       "<Figure size 432x288 with 2 Axes>"
      ]
     },
     "metadata": {
      "needs_background": "light"
     },
     "output_type": "display_data"
    }
   ],
   "source": [
    "import matplotlib.pyplot as plt\n",
    "%matplotlib inline\n",
    "fig,ax1=plt.subplots()\n",
    "ax2=ax1.twinx()\n",
    "ax1.plot(hist.history['loss'],color='cadetblue')\n",
    "ax1.plot(hist.history['val_loss'])\n",
    "ax2.plot(hist.history['acc'],color='salmon')\n",
    "ax2.plot(hist.history['val_acc'],color='orange')\n",
    "ax1.legend(['loss','val_loss'],loc='center right')\n",
    "ax2.legend(['acc','val_acc'],loc='center left')\n",
    "plt.title(\"신체데이터에 따른 감정 예측 정확도\", fontsize = 15)\n",
    "plt.grid()\n",
    "plt.show()"
   ]
  },
  {
   "cell_type": "code",
   "execution_count": 28,
   "metadata": {},
   "outputs": [
    {
     "name": "stdout",
     "output_type": "stream",
     "text": [
      "              precision    recall  f1-score   support\n",
      "\n",
      "           0       0.76      0.93      0.83       120\n",
      "           1       0.73      0.41      0.52        59\n",
      "\n",
      "   micro avg       0.75      0.75      0.75       179\n",
      "   macro avg       0.74      0.67      0.68       179\n",
      "weighted avg       0.75      0.75      0.73       179\n",
      "\n",
      "[[111   9]\n",
      " [ 35  24]]\n"
     ]
    }
   ],
   "source": [
    "import numpy as np\n",
    "from sklearn.metrics import classification_report,confusion_matrix\n",
    "\n",
    "y_pred = model.predict(X_test)\n",
    "y_test_class = np.argmax(y_test,axis=1)\n",
    "y_pred_class = np.argmax(y_pred,axis=1)\n",
    "\n",
    "print(classification_report(y_test_class,y_pred_class))\n",
    "print(confusion_matrix(y_test_class,y_pred_class))"
   ]
  },
  {
   "cell_type": "code",
   "execution_count": 29,
   "metadata": {},
   "outputs": [
    {
     "name": "stdout",
     "output_type": "stream",
     "text": [
      "예측 감정 수준 EM2(평온함과 흥분됨의 정도): [-2]\n"
     ]
    }
   ],
   "source": [
    "test_set = np.array([[192,17.0,0.151161,70.33]])\n",
    "print(\"예측 감정 수준 EM2(평온함과 흥분됨의 정도): {}\".format(\n",
    "    DataSet['EM2'].unique()[model.predict_classes(test_set)]))"
   ]
  }
 ],
 "metadata": {
  "kernelspec": {
   "display_name": "Python 3",
   "language": "python",
   "name": "python3"
  },
  "language_info": {
   "codemirror_mode": {
    "name": "ipython",
    "version": 3
   },
   "file_extension": ".py",
   "mimetype": "text/x-python",
   "name": "python",
   "nbconvert_exporter": "python",
   "pygments_lexer": "ipython3",
   "version": "3.7.3"
  }
 },
 "nbformat": 4,
 "nbformat_minor": 2
}
